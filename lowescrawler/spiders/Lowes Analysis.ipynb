{
 "cells": [
  {
   "cell_type": "code",
   "execution_count": 122,
   "metadata": {},
   "outputs": [],
   "source": [
    "import pandas as pd\n",
    "import csv\n",
    "import seaborn as sns\n",
    "import matplotlib.pyplot as plt"
   ]
  },
  {
   "cell_type": "code",
   "execution_count": 123,
   "metadata": {},
   "outputs": [
    {
     "data": {
      "text/html": [
       "<div>\n",
       "<style scoped>\n",
       "    .dataframe tbody tr th:only-of-type {\n",
       "        vertical-align: middle;\n",
       "    }\n",
       "\n",
       "    .dataframe tbody tr th {\n",
       "        vertical-align: top;\n",
       "    }\n",
       "\n",
       "    .dataframe thead th {\n",
       "        text-align: right;\n",
       "    }\n",
       "</style>\n",
       "<table border=\"1\" class=\"dataframe\">\n",
       "  <thead>\n",
       "    <tr style=\"text-align: right;\">\n",
       "      <th></th>\n",
       "      <th>Id</th>\n",
       "      <th>Titulo</th>\n",
       "      <th>Modelo</th>\n",
       "      <th>Marca</th>\n",
       "      <th>Estrelas</th>\n",
       "      <th>Avaliacoes</th>\n",
       "      <th>Url</th>\n",
       "    </tr>\n",
       "  </thead>\n",
       "  <tbody>\n",
       "    <tr>\n",
       "      <th>0</th>\n",
       "      <td>852884</td>\n",
       "      <td>18-cu ft Top-Freezer Refrigerator (White)</td>\n",
       "      <td>FFTR1814TW</td>\n",
       "      <td>Frigidaire</td>\n",
       "      <td>4.5</td>\n",
       "      <td>12552</td>\n",
       "      <td>https://www.lowes.com/pd/Frigidaire-18-cu-ft-T...</td>\n",
       "    </tr>\n",
       "    <tr>\n",
       "      <th>1</th>\n",
       "      <td>712177</td>\n",
       "      <td>24.52-cu ft Side-by-Side Refrigerator with Ice...</td>\n",
       "      <td>RS25J500DSR</td>\n",
       "      <td>Samsung</td>\n",
       "      <td>3.5</td>\n",
       "      <td>552</td>\n",
       "      <td>https://www.lowes.com/pd/Samsung-24-52-cu-ft-S...</td>\n",
       "    </tr>\n",
       "    <tr>\n",
       "      <th>2</th>\n",
       "      <td>1030901</td>\n",
       "      <td>24.6-cu ft Side-by-Side Refrigerator with Ice ...</td>\n",
       "      <td>WRS315SDHZ</td>\n",
       "      <td>Whirlpool</td>\n",
       "      <td>4.5</td>\n",
       "      <td>1806</td>\n",
       "      <td>https://www.lowes.com/pd/Whirlpool-24-6-cu-ft-...</td>\n",
       "    </tr>\n",
       "    <tr>\n",
       "      <th>3</th>\n",
       "      <td>852875</td>\n",
       "      <td>26.8-cu ft French Door Refrigerator with Ice M...</td>\n",
       "      <td>FFHB2750TD</td>\n",
       "      <td>Frigidaire</td>\n",
       "      <td>4.5</td>\n",
       "      <td>4044</td>\n",
       "      <td>https://www.lowes.com/pd/Frigidaire-26-8-cu-ft...</td>\n",
       "    </tr>\n",
       "    <tr>\n",
       "      <th>4</th>\n",
       "      <td>618013</td>\n",
       "      <td>26.2-cu ft Side-by-Side Refrigerator with Ice ...</td>\n",
       "      <td>LSXS26326S</td>\n",
       "      <td>LG</td>\n",
       "      <td>4.0</td>\n",
       "      <td>1000</td>\n",
       "      <td>https://www.lowes.com/pd/LG-26-2-cu-ft-Side-by...</td>\n",
       "    </tr>\n",
       "  </tbody>\n",
       "</table>\n",
       "</div>"
      ],
      "text/plain": [
       "        Id                                             Titulo       Modelo  \\\n",
       "0   852884          18-cu ft Top-Freezer Refrigerator (White)   FFTR1814TW   \n",
       "1   712177  24.52-cu ft Side-by-Side Refrigerator with Ice...  RS25J500DSR   \n",
       "2  1030901  24.6-cu ft Side-by-Side Refrigerator with Ice ...   WRS315SDHZ   \n",
       "3   852875  26.8-cu ft French Door Refrigerator with Ice M...   FFHB2750TD   \n",
       "4   618013  26.2-cu ft Side-by-Side Refrigerator with Ice ...   LSXS26326S   \n",
       "\n",
       "        Marca  Estrelas  Avaliacoes  \\\n",
       "0  Frigidaire       4.5       12552   \n",
       "1     Samsung       3.5         552   \n",
       "2   Whirlpool       4.5        1806   \n",
       "3  Frigidaire       4.5        4044   \n",
       "4          LG       4.0        1000   \n",
       "\n",
       "                                                 Url  \n",
       "0  https://www.lowes.com/pd/Frigidaire-18-cu-ft-T...  \n",
       "1  https://www.lowes.com/pd/Samsung-24-52-cu-ft-S...  \n",
       "2  https://www.lowes.com/pd/Whirlpool-24-6-cu-ft-...  \n",
       "3  https://www.lowes.com/pd/Frigidaire-26-8-cu-ft...  \n",
       "4  https://www.lowes.com/pd/LG-26-2-cu-ft-Side-by...  "
      ]
     },
     "execution_count": 123,
     "metadata": {},
     "output_type": "execute_result"
    }
   ],
   "source": [
    "df = pd.read_csv('C:\\\\Arquivos\\\\Programas\\\\python\\\\birdie2020\\\\crawler\\\\LowesCrawler\\\\lowescrawler\\\\spiders\\\\lowes.csv')\n",
    "df.head()"
   ]
  },
  {
   "cell_type": "code",
   "execution_count": 124,
   "metadata": {},
   "outputs": [],
   "source": [
    "df = df.drop_duplicates()"
   ]
  },
  {
   "cell_type": "code",
   "execution_count": 125,
   "metadata": {},
   "outputs": [
    {
     "data": {
      "text/html": [
       "<div>\n",
       "<style scoped>\n",
       "    .dataframe tbody tr th:only-of-type {\n",
       "        vertical-align: middle;\n",
       "    }\n",
       "\n",
       "    .dataframe tbody tr th {\n",
       "        vertical-align: top;\n",
       "    }\n",
       "\n",
       "    .dataframe thead th {\n",
       "        text-align: right;\n",
       "    }\n",
       "</style>\n",
       "<table border=\"1\" class=\"dataframe\">\n",
       "  <thead>\n",
       "    <tr style=\"text-align: right;\">\n",
       "      <th></th>\n",
       "      <th>Id</th>\n",
       "      <th>Estrelas</th>\n",
       "      <th>Avaliacoes</th>\n",
       "    </tr>\n",
       "  </thead>\n",
       "  <tbody>\n",
       "    <tr>\n",
       "      <th>count</th>\n",
       "      <td>2.250000e+02</td>\n",
       "      <td>225.000000</td>\n",
       "      <td>225.000000</td>\n",
       "    </tr>\n",
       "    <tr>\n",
       "      <th>mean</th>\n",
       "      <td>1.164320e+06</td>\n",
       "      <td>4.235556</td>\n",
       "      <td>1066.480000</td>\n",
       "    </tr>\n",
       "    <tr>\n",
       "      <th>std</th>\n",
       "      <td>6.147737e+05</td>\n",
       "      <td>0.422659</td>\n",
       "      <td>1608.710095</td>\n",
       "    </tr>\n",
       "    <tr>\n",
       "      <th>min</th>\n",
       "      <td>3.526800e+04</td>\n",
       "      <td>1.500000</td>\n",
       "      <td>1.000000</td>\n",
       "    </tr>\n",
       "    <tr>\n",
       "      <th>25%</th>\n",
       "      <td>6.603220e+05</td>\n",
       "      <td>4.000000</td>\n",
       "      <td>120.000000</td>\n",
       "    </tr>\n",
       "    <tr>\n",
       "      <th>50%</th>\n",
       "      <td>9.303030e+05</td>\n",
       "      <td>4.500000</td>\n",
       "      <td>344.000000</td>\n",
       "    </tr>\n",
       "    <tr>\n",
       "      <th>75%</th>\n",
       "      <td>1.392374e+06</td>\n",
       "      <td>4.500000</td>\n",
       "      <td>1296.000000</td>\n",
       "    </tr>\n",
       "    <tr>\n",
       "      <th>max</th>\n",
       "      <td>2.569141e+06</td>\n",
       "      <td>4.500000</td>\n",
       "      <td>12552.000000</td>\n",
       "    </tr>\n",
       "  </tbody>\n",
       "</table>\n",
       "</div>"
      ],
      "text/plain": [
       "                 Id    Estrelas    Avaliacoes\n",
       "count  2.250000e+02  225.000000    225.000000\n",
       "mean   1.164320e+06    4.235556   1066.480000\n",
       "std    6.147737e+05    0.422659   1608.710095\n",
       "min    3.526800e+04    1.500000      1.000000\n",
       "25%    6.603220e+05    4.000000    120.000000\n",
       "50%    9.303030e+05    4.500000    344.000000\n",
       "75%    1.392374e+06    4.500000   1296.000000\n",
       "max    2.569141e+06    4.500000  12552.000000"
      ]
     },
     "execution_count": 125,
     "metadata": {},
     "output_type": "execute_result"
    }
   ],
   "source": [
    "df.describe()"
   ]
  },
  {
   "cell_type": "code",
   "execution_count": 126,
   "metadata": {},
   "outputs": [
    {
     "name": "stdout",
     "output_type": "stream",
     "text": [
      "<class 'pandas.core.frame.DataFrame'>\n",
      "Int64Index: 225 entries, 0 to 263\n",
      "Data columns (total 7 columns):\n",
      " #   Column      Non-Null Count  Dtype  \n",
      "---  ------      --------------  -----  \n",
      " 0   Id          225 non-null    int64  \n",
      " 1   Titulo      225 non-null    object \n",
      " 2   Modelo      225 non-null    object \n",
      " 3   Marca       225 non-null    object \n",
      " 4   Estrelas    225 non-null    float64\n",
      " 5   Avaliacoes  225 non-null    int64  \n",
      " 6   Url         225 non-null    object \n",
      "dtypes: float64(1), int64(2), object(4)\n",
      "memory usage: 14.1+ KB\n"
     ]
    }
   ],
   "source": [
    "df.info()"
   ]
  },
  {
   "cell_type": "markdown",
   "metadata": {},
   "source": [
    "# Visualização"
   ]
  },
  {
   "cell_type": "code",
   "execution_count": 127,
   "metadata": {},
   "outputs": [],
   "source": [
    "d_estrelas = {}\n",
    "d_avaliacoes = {}\n",
    "for m in df['Marca'].unique():\n",
    "    d_estrelas.update({m:df[df['Marca'] ==  m]['Estrelas'].mean()})\n",
    "    d_avaliacoes.update({m:df[df[\"Marca\"] ==  m]['Avaliacoes'].sum()})"
   ]
  },
  {
   "cell_type": "code",
   "execution_count": 128,
   "metadata": {},
   "outputs": [
    {
     "data": {
      "text/plain": [
       "<matplotlib.axes._subplots.AxesSubplot at 0x1dbd9782f88>"
      ]
     },
     "execution_count": 128,
     "metadata": {},
     "output_type": "execute_result"
    },
    {
     "data": {
      "image/png": "[encoded data removed]",
      "text/plain": [
       "<Figure size 1584x360 with 1 Axes>"
      ]
     },
     "metadata": {},
     "output_type": "display_data"
    }
   ],
   "source": [
    "sns.set(font_scale=1.4)\n",
    "sns.set_style(\"darkgrid\", {\"axes.facecolor\": \".9\"})\n",
    "plt.figure(figsize=(22, 5))\n",
    "plt.title(\"Média de estrelas por marca\")\n",
    "sns.barplot(x=list(d_estrelas.keys()), y=list(d_estrelas.values()))"
   ]
  },
  {
   "cell_type": "code",
   "execution_count": 129,
   "metadata": {},
   "outputs": [],
   "source": [
    "d_avaliacoes_order = {k: v for k, v in sorted(d_avaliacoes.items(), key=lambda item: item[1],\n",
    "                           reverse=True)}"
   ]
  },
  {
   "cell_type": "code",
   "execution_count": 130,
   "metadata": {},
   "outputs": [
    {
     "data": {
      "text/plain": [
       "<matplotlib.axes._subplots.AxesSubplot at 0x1dbd9831688>"
      ]
     },
     "execution_count": 130,
     "metadata": {},
     "output_type": "execute_result"
    },
    {
     "data": {
      "image/png": "[encoded data removed]",
      "text/plain": [
       "<Figure size 1440x360 with 1 Axes>"
      ]
     },
     "metadata": {},
     "output_type": "display_data"
    }
   ],
   "source": [
    "plt.figure(figsize=(20, 5))\n",
    "plt.title(\"Quantidade de reviews por marca\")\n",
    "sns.barplot(x=list(d_avaliacoes_order.keys()), y=list(d_avaliacoes_order.values()), palette='rocket')"
   ]
  },
  {
   "cell_type": "code",
   "execution_count": null,
   "metadata": {},
   "outputs": [],
   "source": []
  }
 ],
 "metadata": {
  "kernelspec": {
   "display_name": "Python 3.7.4 64-bit",
   "language": "python",
   "name": "python37464bite3979402f68940f3ab1091103ec45192"
  },
  "language_info": {
   "codemirror_mode": {
    "name": "ipython",
    "version": 3
   },
   "file_extension": ".py",
   "mimetype": "text/x-python",
   "name": "python",
   "nbconvert_exporter": "python",
   "pygments_lexer": "ipython3",
   "version": "3.7.4"
  }
 },
 "nbformat": 4,
 "nbformat_minor": 2
}
